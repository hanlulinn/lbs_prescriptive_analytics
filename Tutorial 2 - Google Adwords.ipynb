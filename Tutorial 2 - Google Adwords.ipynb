{
 "cells": [
  {
   "cell_type": "markdown",
   "metadata": {},
   "source": [
    "# Introduction"
   ]
  },
  {
   "cell_type": "markdown",
   "metadata": {},
   "source": [
    "**Online advertising** is the main method used by search engine companies to generate revenue. Companies such as Google, Facebook, and Yahoo!, are all large providers of search advertising. Advertisers can bid on each search query (or \"keyword\") posted by the engine's users. In comparison with traditional advertising (TV, newspaper, etc.), online advertising has several advantages, explaining its popularity:\n",
    " - *Real-time execution:* Advertisers can bid in real-time to display their ads to the engine's users, without any further delay. Most parameters of the ads can be controlled in real-time.\n",
    " - *Data-driven:* Online advertising is an information-rich environment. Performance metrics and user-level attributes are made available to inform, analyse and optimize the bidding process.\n",
    " \n"
   ]
  },
  {
   "cell_type": "markdown",
   "metadata": {},
   "source": [
    "**Google** is a popular search engine, and thus, it is a frequently used option for advertisers to place their ads. AdWords, the main advertising product of Google, was launched in 2000 to increase Google's revenue. Their opening pitch was \"Have a credit card and 5 minutes? Get you ad on Google\". Nowadays, AdWords allows advertisers to place bids for ganular search queries in order to display their ads on the search page. The original idea was invented by Bill Gross from Idealab. The similarities in the two systems led to some legal action, but the dispute was settled out of court, and AdWords continued unharmed. AdWords has been a very successful product for Google, which historically provided Google with over 90% of its annual revenue (2000-2014)."
   ]
  },
  {
   "cell_type": "markdown",
   "metadata": {},
   "source": [
    " **Optimization methods** create a substantial edge for online advertising platforms such as Google. At a high-level, by using prescriptive analytics, the online platforms can ensure that the right advertisement content is displayed to the right user at the right price. Every day, Google solves linear programs to decide on the allocation of billions of ads!"
   ]
  },
  {
   "cell_type": "markdown",
   "metadata": {},
   "source": [
    " **Your assignment:** In what follows, you will take the perspective of Google's AdWords platform:\n",
    "\n",
    "1. Business schools in London want to advertise their master level programs on Google. Suppose that each user can see at most one ad.\n",
    "- You have forecasts describing the traffic to the Google search engine. There is limited *number of user search queries* (or capacity) for each keyword. Each keyword also has a distinct *click-through rate*.\n",
    "- The business schools input their daily *budgets*, and how much they *value* a click on each keyword. This is the revenue Google makes per click.\n",
    "- Google Adwords uses linear programming to optimize the allocation of business school ads to the incoming search queries in order to maximize the total expected revenue."
   ]
  },
  {
   "cell_type": "markdown",
   "metadata": {},
   "source": [
    "# Q1. Data"
   ]
  },
  {
   "cell_type": "markdown",
   "metadata": {},
   "source": [
    "We begin by importing the GUROBI package and the data."
   ]
  },
  {
   "cell_type": "code",
   "execution_count": 1,
   "metadata": {},
   "outputs": [],
   "source": [
    "# The following lines of code import the gurobi package\n",
    "import gurobipy as gp\n",
    "from gurobipy import GRB,quicksum"
   ]
  },
  {
   "cell_type": "markdown",
   "metadata": {},
   "source": [
    "There are four potential keywords. For each keyword, there is a daily number of users that will make a search query on the keyword in question (i.e., capacity). For example, there are 10,000 user search queries for the \"london\" keyword. For simplicity, we will assume that Google can display at most one business school to each user."
   ]
  },
  {
   "cell_type": "code",
   "execution_count": 2,
   "metadata": {},
   "outputs": [],
   "source": [
    "# Next dictionary contains the capacities of each keyword\n",
    "keywords = ['london','master_program', 'data_science']\n",
    "capacities = {\n",
    "    'london': 10000,\n",
    "    'master_program': 2500,  \n",
    "    'data_science': 2380\n",
    "}"
   ]
  },
  {
   "cell_type": "markdown",
   "metadata": {},
   "source": [
    "Google uses historical data to predict the click-through rate of each keyword. This is the probability of a click per user impression."
   ]
  },
  {
   "cell_type": "code",
   "execution_count": 3,
   "metadata": {},
   "outputs": [],
   "source": [
    "clickRatePerKeyword = {\n",
    "    'london': 0.001,\n",
    "    'master_program': 0.003,  \n",
    "    'data_science': 0.003, \n",
    "}"
   ]
  },
  {
   "cell_type": "markdown",
   "metadata": {},
   "source": [
    "There are two business schools, each of which has specified a total budget."
   ]
  },
  {
   "cell_type": "code",
   "execution_count": 4,
   "metadata": {},
   "outputs": [],
   "source": [
    "# Next dictionary contains the £ budget of each business school\n",
    "bSchools = ['LBS','Imperial']\n",
    "budgets = {\n",
    "    'LBS': 50000,\n",
    "    'Imperial': 25000,    \n",
    "}"
   ]
  },
  {
   "cell_type": "markdown",
   "metadata": {},
   "source": [
    "Each business school informs the Google ad exchange about how much it values each \"click\" per keyword. This is the revenue Google charges the business school for each click."
   ]
  },
  {
   "cell_type": "code",
   "execution_count": 5,
   "metadata": {},
   "outputs": [],
   "source": [
    "# Next dictionary contains the keywords specified by each business school\n",
    "revenuePerKeyword = {\n",
    "    ('LBS','london'): 2000,\n",
    "    ('LBS','master_program'): 3200,  \n",
    "    ('LBS','data_science'): 4000, \n",
    "    ('Imperial','london'):0,\n",
    "    ('Imperial','master_program'): 500,  \n",
    "    ('Imperial','data_science'): 3500,  \n",
    "}"
   ]
  },
  {
   "cell_type": "markdown",
   "metadata": {},
   "source": [
    "We now construct another dictionary that will be also very useful."
   ]
  },
  {
   "cell_type": "code",
   "execution_count": 6,
   "metadata": {},
   "outputs": [],
   "source": [
    "extra_dictionary = {\n",
    "    (b,k): clickRatePerKeyword[k]*revenuePerKeyword[b,k] for b in bSchools for k in keywords\n",
    "}\n",
    "\n",
    "# About the Python syntax: \n",
    "# You can use \"for loops\" inside dictionaries, lists, etc.\n",
    "# Python will consider all the elements of the loop to construct the dictionary/list\n",
    "# You can even combine multiple loops, as in the example above.\n",
    "# This is equivalent to the following code:\n",
    "# \n",
    "# extra_dictionary = {}\n",
    "# for b in bSchools:\n",
    "#     for k in keywords:\n",
    "#         extra_dictionary[b,k] = clickRatePerKeyword[k]*revenuePerKeyword[b,k]"
   ]
  },
  {
   "cell_type": "markdown",
   "metadata": {},
   "source": [
    "### Q1.1. What does this dictionary represent? Explain the calculation and what it means.\n"
   ]
  },
  {
   "cell_type": "markdown",
   "metadata": {},
   "source": [
    "This dictionary represents the revenue per impression for each keyword and business schools. The caculation multiplies the click through rate for each keyword by the revenue Google charges the business school for each click.As click through rate = clicks/impression, it means the revenue Google can generate for each impression they provide for each keyword specified by each business school."
   ]
  },
  {
   "cell_type": "markdown",
   "metadata": {},
   "source": [
    "# Q2.  Google Adwords' Allocation Linear Program"
   ]
  },
  {
   "cell_type": "markdown",
   "metadata": {},
   "source": [
    "Recall that the LP formulation has three components:\n",
    "- Decision variables: What variables does Google Adwords control?\n",
    "- Constraints: What limitations does the platform face?\n",
    "- Objective function: What is the performance metric? Are we *minimizing* or *maximizing*?"
   ]
  },
  {
   "cell_type": "markdown",
   "metadata": {},
   "source": [
    "# Formulate Google Adwords' LP"
   ]
  },
  {
   "cell_type": "markdown",
   "metadata": {},
   "source": [
    "Solution:\n",
    "- Decision variables: *Google needs to decide how many users (from each keyword) are allocated to each business school ad.*\n",
    "- Constraints: *There is a limited number of users for each keyword. Google has a limited budget for each business school.*\n",
    "- Objective function: *The goal for Google is to maximize the expected revenue.*\n",
    "\n",
    "In words, we obtain the following linear program:\n",
    "\n",
    "$$ {\\max} \\quad \\quad{\\rm Total\\ Expected\\ Revenue} $$\n",
    "$\\quad\\quad{\\rm subject \\ to}$\n",
    "$$ \\quad  {\\rm LBS's\\ Expected\\ Cost} \\leq {\\rm Budget}_{LBS}$$\n",
    "$$ \\quad  {\\rm Imperial's\\ Expected\\ Cost} \\leq {\\rm Budget}_{Imperial} $$\n",
    "$$ \\quad  {\\rm Number\\ of\\ Users\\ for\\ Query\\ \"London\"} \\leq {\\rm Capacity}_{lon}$$\n",
    "$$ \\quad  {\\rm Number\\ of\\ Users\\ for\\ Query\\ \"Master\\ Program\"} \\leq {\\rm Capacity}_{mas}$$\n",
    "$$ \\quad  {\\rm Number\\ of\\ Users\\ for\\ Query\\ \"Consulting\\ Training\"} \\leq {\\rm Capacity}_{con}$$\n",
    "$$ \\quad  {\\rm Number\\ of\\ Users\\ for\\ Query\\ \"Data\\ Science\"}\\leq {\\rm Capacity}_{dat}$$\n"
   ]
  },
  {
   "cell_type": "markdown",
   "metadata": {},
   "source": [
    "In mathematical form:\n",
    "\n",
    "$$ \\max_{x_{B,k} \\geq 0} \\quad\\quad\\quad  2.0\\cdot x_{LBS,lon} +  9.6\\cdot x_{LBS,mas} + 12.0\\cdot x_{LBS,dat}+  1.5\\cdot x_{Im,mas} + 10.5\\cdot x_{Im,dat} $$\n",
    "$ \\quad \\quad \\text{subject to}$\n",
    "$$ \\quad  2.0\\cdot x_{LBS,lon} +  9.6\\cdot x_{LBS,mas} + 12.0\\cdot x_{LBS,dat} \\leq 50000$$\n",
    "$$ \\quad   1.5\\cdot x_{Im,mas} + 10.5\\cdot x_{Im,dat} \\leq 25000 $$\n",
    "$$ \\quad  x_{LBS,lon} +  x_{Im,lon} \\leq 10000$$\n",
    "$$ \\quad  x_{LBS,mas} +  x_{Im,mas} \\leq 2500$$\n",
    "$$ \\quad  x_{LBS,dat} +  x_{Im,dat} \\leq 2380$$"
   ]
  },
  {
   "cell_type": "markdown",
   "metadata": {},
   "source": [
    "## Create a model"
   ]
  },
  {
   "cell_type": "markdown",
   "metadata": {},
   "source": [
    "In what follows, we construct a linear program. *Fill and execute the cells below*"
   ]
  },
  {
   "cell_type": "code",
   "execution_count": 39,
   "metadata": {},
   "outputs": [],
   "source": [
    "# We create a model object named \"Adwords\"\n",
    "m = gp.Model(\"adwords\")"
   ]
  },
  {
   "cell_type": "markdown",
   "metadata": {},
   "source": [
    "## Step 1: Add decision variables"
   ]
  },
  {
   "cell_type": "markdown",
   "metadata": {},
   "source": [
    "We create variables to decide on how many user queries of each keyword are served with ads from each business school."
   ]
  },
  {
   "cell_type": "code",
   "execution_count": 40,
   "metadata": {},
   "outputs": [],
   "source": [
    "# We create a dictionary of decision variables named \"allocation\"\n",
    "# The first two arguments indicate that the allocation varies \n",
    "# by business school (first argument) and keyword (second argument)\n",
    "allocation = m.addVars(bSchools,keywords, lb = 0, name=\"allocation\")"
   ]
  },
  {
   "cell_type": "code",
   "execution_count": 41,
   "metadata": {},
   "outputs": [
    {
     "data": {
      "text/plain": [
       "{('LBS', 'london'): <gurobi.Var *Awaiting Model Update*>,\n",
       " ('LBS', 'master_program'): <gurobi.Var *Awaiting Model Update*>,\n",
       " ('LBS', 'data_science'): <gurobi.Var *Awaiting Model Update*>,\n",
       " ('Imperial', 'london'): <gurobi.Var *Awaiting Model Update*>,\n",
       " ('Imperial', 'master_program'): <gurobi.Var *Awaiting Model Update*>,\n",
       " ('Imperial', 'data_science'): <gurobi.Var *Awaiting Model Update*>}"
      ]
     },
     "execution_count": 41,
     "metadata": {},
     "output_type": "execute_result"
    }
   ],
   "source": [
    "allocation"
   ]
  },
  {
   "cell_type": "markdown",
   "metadata": {},
   "source": [
    "## Step 2: Add constraints"
   ]
  },
  {
   "cell_type": "markdown",
   "metadata": {},
   "source": [
    "### Add the constraints relative to the capacity of each keyword in the cell below. \n",
    "*Hint: Use the construct `m.addConstrs()` or `m.addConstr()`. To calculate a sum, you can use the construct `quicksum()`*"
   ]
  },
  {
   "cell_type": "code",
   "execution_count": 42,
   "metadata": {},
   "outputs": [],
   "source": [
    "# Uncomment and complete the code below\n",
    "capacity_constraints = m.addConstrs((quicksum(allocation[b,k] for b in bSchools) <= capacities[k] for k in keywords),'keyword_capacity')\n",
    "\n",
    "#for k in keywords"
   ]
  },
  {
   "cell_type": "markdown",
   "metadata": {},
   "source": [
    "### Now, add the constraints on the total budget of each business school  in the cell below.\n",
    "*Hint: Use the construct `m.addConstr()`. To calculate a sum, you can use the construct `quicksum()`*"
   ]
  },
  {
   "cell_type": "code",
   "execution_count": 43,
   "metadata": {},
   "outputs": [],
   "source": [
    "# Uncomment and complete the code below\n",
    "budget_constraints = m.addConstrs((quicksum(extra_dictionary[b,k] * allocation[b,k] for k in keywords) <= budgets[b] for b in bSchools),'budget')\n",
    "\n",
    "# for b in bSchools:\n",
    "#"
   ]
  },
  {
   "cell_type": "markdown",
   "metadata": {},
   "source": [
    "## Step 3: Specify the objective"
   ]
  },
  {
   "cell_type": "markdown",
   "metadata": {},
   "source": [
    "We proceed by defining the objective of Google."
   ]
  },
  {
   "cell_type": "code",
   "execution_count": 44,
   "metadata": {},
   "outputs": [],
   "source": [
    "# The objective is to maximize the total expected revenue\n",
    "m.setObjective(quicksum(allocation[b,k]*extra_dictionary[b,k] for b in bSchools for k in keywords), GRB.MAXIMIZE)\n",
    "\n",
    "# Remark: This is equivalent to the following formulation:\n",
    "# m.setObjective(allocation.prod(revenues), GRB.MINIMIZE)"
   ]
  },
  {
   "cell_type": "markdown",
   "metadata": {},
   "source": [
    "## Solve the LP"
   ]
  },
  {
   "cell_type": "markdown",
   "metadata": {},
   "source": [
    "Congratulations! You have formulated the Google Adwords LP. We will now solve it and printout the solution."
   ]
  },
  {
   "cell_type": "code",
   "execution_count": 45,
   "metadata": {},
   "outputs": [
    {
     "name": "stdout",
     "output_type": "stream",
     "text": [
      "Gurobi Optimizer version 9.5.0 build v9.5.0rc5 (win64)\n",
      "Thread count: 6 physical cores, 12 logical processors, using up to 12 threads\n",
      "Optimize a model with 5 rows, 6 columns and 11 nonzeros\n",
      "Model fingerprint: 0xa8cadc7d\n",
      "Coefficient statistics:\n",
      "  Matrix range     [1e+00, 1e+01]\n",
      "  Objective range  [2e+00, 1e+01]\n",
      "  Bounds range     [0e+00, 0e+00]\n",
      "  RHS range        [2e+03, 5e+04]\n",
      "Presolve removed 1 rows and 1 columns\n",
      "Presolve time: 0.01s\n",
      "Presolved: 4 rows, 5 columns, 9 nonzeros\n",
      "\n",
      "Iteration    Objective       Primal Inf.    Dual Inf.      Time\n",
      "       0    7.2560000e+04   7.050000e+02   0.000000e+00      0s\n",
      "       1    6.9740000e+04   0.000000e+00   0.000000e+00      0s\n",
      "\n",
      "Solved in 1 iterations and 0.01 seconds (0.00 work units)\n",
      "Optimal objective  6.974000000e+04\n",
      "\n",
      "Revenue: 69740\n",
      "\n",
      "Allocation of user queries:\n",
      "LBS london 10000 \n",
      "LBS master_program 2500 \n",
      "LBS data_science 500 \n",
      "Imperial london 0 \n",
      "Imperial master_program 0 \n",
      "Imperial data_science 1880 \n",
      "\n",
      "Revenue per school per keyword:\n",
      "LBS london 20000 \n",
      "LBS master_program 24000 \n",
      "LBS data_science 6000 \n",
      "Imperial london 0 \n",
      "Imperial master_program 0 \n",
      "Imperial data_science 19740 \n"
     ]
    }
   ],
   "source": [
    "def printSolution():\n",
    "    if m.status == GRB.OPTIMAL:\n",
    "        print('\\nRevenue: %g' % m.objVal)\n",
    "        print('\\nAllocation of user queries:')\n",
    "        allocationx = m.getAttr('x', allocation)\n",
    "        for B in bSchools:\n",
    "            for k in keywords:            \n",
    "                print('%s %s %g ' % (B,k, allocationx[B,k]))\n",
    "        print('\\nRevenue per school per keyword:')\n",
    "        allocationx = m.getAttr('x', allocation)\n",
    "        for B in bSchools:\n",
    "            for k in keywords:            \n",
    "                print('%s %s %g ' % (B,k,allocationx[B,k]*extra_dictionary[B,k]))                \n",
    "    else:\n",
    "        print('No solution:', m.status)\n",
    "        \n",
    "m.optimize()\n",
    "printSolution()"
   ]
  },
  {
   "cell_type": "markdown",
   "metadata": {},
   "source": [
    "### Q2.1. According to the LBS recruitment team, the keyword \"data science\"  usually attracts better candidates for the programs. Should LBS be concerned by the current allocation? How could LBS improve its allocation?\n",
    "*Hint: Feel free to vary the inputs of the linear program to better understand its workings.*"
   ]
  },
  {
   "cell_type": "markdown",
   "metadata": {},
   "source": [
    "Yes,because currently Imperial get more allocation for data_science keyword(1800) compared to LBS(500), which may attracts better candidates for the program. To improve its allocation, LBS can change how much it values each \"click\" per keyword. For example, LBS can lower the value for each \"click\" per keyword for keyword \"london\" and \"master_program\", and realatively increases this value for \"data_science\" to get more allocation in keyword \"data_science\".\n"
   ]
  },
  {
   "cell_type": "markdown",
   "metadata": {},
   "source": [
    "# Q3. Should Google attract more traffic?"
   ]
  },
  {
   "cell_type": "markdown",
   "metadata": {},
   "source": [
    "Google has the ability to attract more traffic to the search engine through various methods. Specifically, Google can increase the capacity of any given keyword. It  costs the same amount to attract more users searching for the keywords \"london\", \"master_program\" and \"data_science\". Google would like to understand for which keyword it is the most lucrative to slightly increase their capacity."
   ]
  },
  {
   "cell_type": "markdown",
   "metadata": {},
   "source": [
    "## Sensitivity analysis and shadow prices"
   ]
  },
  {
   "cell_type": "markdown",
   "metadata": {},
   "source": [
    "As seen in class, once a linear program is formulated and solved, we can perform a sensitivity analysis. This analysis allows us to understand by how much the objective changes by slightly modifying the constraints. Specifically, the notion of shadow price quantifies how the optimal solution of a linear program varies relative to changes in the constant appearing on the righthand side of a given constraint. The shadow price of a constraint C is:\n",
    "\n",
    "$$ {\\rm shadowPrice(C)} = \\frac{\\Delta (\\text{optimal value of the LP})}{ \\Delta (\\text{RHS of the constraint C})}$$"
   ]
  },
  {
   "cell_type": "markdown",
   "metadata": {},
   "source": [
    "GUROBI automatically gives you the shadow price of each constraint. You may use the construct `constr.Pi` to get the shadow price of constraint `constr`."
   ]
  },
  {
   "cell_type": "markdown",
   "metadata": {},
   "source": [
    "### Q3.1: Using shadow prices, what advice can you give to Google? How would you prioritize increasing the keywords' capacity?"
   ]
  },
  {
   "cell_type": "markdown",
   "metadata": {},
   "source": [
    "*Insert your answer here:*\n",
    "Using shadow prices, Google can adjust the capacity of each keyword to increase ite revenue.I would prioritize increasing the keywords' capacity as 'data_science','master_program','london'."
   ]
  },
  {
   "cell_type": "code",
   "execution_count": 52,
   "metadata": {},
   "outputs": [
    {
     "name": "stdout",
     "output_type": "stream",
     "text": [
      "london 1.75\n",
      "master_program 8.4\n",
      "data_science 10.5\n"
     ]
    }
   ],
   "source": [
    "# Insert your code here\n",
    "for k in keywords:\n",
    "    print(k,capacity_constraints[k].Pi)"
   ]
  },
  {
   "cell_type": "markdown",
   "metadata": {},
   "source": [
    "### Q3.2: Which business school should Google encourage to increase its budget?"
   ]
  },
  {
   "cell_type": "markdown",
   "metadata": {},
   "source": [
    "*Insert your answer here:*\n",
    "According to the shadow prices, Google should encourage LBS to increase its budget. "
   ]
  },
  {
   "cell_type": "code",
   "execution_count": 50,
   "metadata": {},
   "outputs": [
    {
     "name": "stdout",
     "output_type": "stream",
     "text": [
      "LBS 0.125\n",
      "Imperial 0.0\n"
     ]
    }
   ],
   "source": [
    "# Insert your code here\n",
    "for b in bSchools:\n",
    "    print(b,budget_constraints[b].Pi)"
   ]
  },
  {
   "cell_type": "markdown",
   "metadata": {},
   "source": [
    "# Q4. A more realistic click rate prediction"
   ]
  },
  {
   "cell_type": "markdown",
   "metadata": {},
   "source": [
    "The notion that clicks grows linearly with the number of impressions is unrealistic. In reality, you would expect that, as you increase the number of impressions, it is more difficult generate additional clicks. This is due to marketing fatigue or saturation of the market. For example, if the same user is constantly targeted by the same ad, s/he becomes less likely to click. This means that the *slope* of the click rate function decreases as the number of impressions increases."
   ]
  },
  {
   "cell_type": "markdown",
   "metadata": {},
   "source": [
    "We assume that the number of clicks has the following shape (instead of being linear).\n",
    "<img src=\"Plot 1.png\" width=\"520\">"
   ]
  },
  {
   "cell_type": "markdown",
   "metadata": {},
   "source": [
    "We will approximate the function using a *piecewise linear* function.\n",
    "<img src=\"Plot 3.png\" width=\"520\">"
   ]
  },
  {
   "cell_type": "markdown",
   "metadata": {},
   "source": [
    "The good news is that we can model these functions using linear programs!\n",
    "\n",
    "The modeling approach for this approximation is explained step-by-step below."
   ]
  },
  {
   "cell_type": "markdown",
   "metadata": {},
   "source": [
    "## Step 0: Slopes"
   ]
  },
  {
   "cell_type": "markdown",
   "metadata": {},
   "source": [
    "The first step is to define the \"slopes\" on each piece of the function. This data is represented in the next dictionary:"
   ]
  },
  {
   "cell_type": "code",
   "execution_count": 53,
   "metadata": {},
   "outputs": [],
   "source": [
    "pieces = [\"pieceA\",\"pieceB\"]\n",
    "slopesLBSlondon = {\n",
    "    \"pieceA\": [0,5000,0.002],\n",
    "    \"pieceB\": [5000,10000,0.0001],\n",
    "}\n",
    "# This means that between 0 and 5000 impressions, the clicks increase at a rate of 0.002\n",
    "# Between 5000 and 10000 impressions, the clicks increase at a rate of 0.0001"
   ]
  },
  {
   "cell_type": "markdown",
   "metadata": {},
   "source": [
    "## Step 1: Define the auxiliary variables"
   ]
  },
  {
   "cell_type": "markdown",
   "metadata": {},
   "source": [
    "We define an auxiliary variable $y_{pieceA},y_{pieceB}$ for each piece. *Create an auxiliary variable for each segment of the function*."
   ]
  },
  {
   "cell_type": "code",
   "execution_count": null,
   "metadata": {},
   "outputs": [],
   "source": [
    "# Uncomment and complete the code below\n",
    "\n",
    "auxiliary = {}\n",
    "# for s in pieces:\n",
    "#     ub = slopesLBSlondon[s][1]- slopesLBSlondon[s][0]\n",
    "#     auxiliary[s] = "
   ]
  },
  {
   "cell_type": "markdown",
   "metadata": {},
   "source": [
    "### Q4.1: What should be the upper bound of the auxiliary variable?"
   ]
  },
  {
   "cell_type": "markdown",
   "metadata": {},
   "source": [
    "*Insert your answer here:*\n",
    "\n"
   ]
  },
  {
   "cell_type": "markdown",
   "metadata": {},
   "source": [
    "## Step 2: Add a coupling constraint"
   ]
  },
  {
   "cell_type": "markdown",
   "metadata": {},
   "source": [
    "Now, we create a coupling constraint such that the sum of the auxiliary variables is equal to the corresponding allocation variable.\n",
    "\n",
    "$$ y_{pieceA} + y_{pieceB} = x_{LBS,lon}$$\n",
    "\n",
    "In other words, the allocation is \"broken-down\" into the two pieces."
   ]
  },
  {
   "cell_type": "code",
   "execution_count": null,
   "metadata": {},
   "outputs": [],
   "source": [
    "# Insert your code here\n"
   ]
  },
  {
   "cell_type": "markdown",
   "metadata": {},
   "source": [
    "## Step 3: Modify the objective"
   ]
  },
  {
   "cell_type": "code",
   "execution_count": null,
   "metadata": {},
   "outputs": [],
   "source": [
    "# We modify the objective function (we use the \"slopes\" instead of \"CTR\" for the allocation of \"LBS\" to\"london\")\n",
    "m.setObjective(revenuePerKeyword['LBS','london']*quicksum(slopesLBSlondon[s][2]* auxiliary[s] for s in pieces)\n",
    "              + quicksum(allocation[B,k]*revenuePerKeyword[B,k]*clickRatePerKeyword[k] for B in bSchools \n",
    "                         for k in keywords if B != \"LBS\" or k != 'london'), GRB.MAXIMIZE)"
   ]
  },
  {
   "cell_type": "markdown",
   "metadata": {},
   "source": [
    "## Solve the new LP"
   ]
  },
  {
   "cell_type": "code",
   "execution_count": null,
   "metadata": {},
   "outputs": [],
   "source": [
    "m.optimize()\n",
    "printSolution()"
   ]
  },
  {
   "cell_type": "markdown",
   "metadata": {},
   "source": [
    "### Q4.2. How was the optimal allocation affected (compared to Q2)? Why?"
   ]
  },
  {
   "cell_type": "markdown",
   "metadata": {},
   "source": [
    "*Insert your answer here:*\n"
   ]
  },
  {
   "cell_type": "markdown",
   "metadata": {},
   "source": [
    "### Q4.3. Suppose that the shape of the CTR function is now given below. Can we easily capture this in a linear program?\n",
    "\n",
    "<img src=\"Plot 2.png\" width=\"520\">"
   ]
  },
  {
   "cell_type": "markdown",
   "metadata": {},
   "source": [
    "*Insert your answer here:*\n"
   ]
  },
  {
   "cell_type": "markdown",
   "metadata": {},
   "source": [
    "# Q5. More Practice"
   ]
  },
  {
   "cell_type": "markdown",
   "metadata": {},
   "source": [
    "Using the same approach as Q3, you can now modify the click rates for all the keywords and business schools. Using the dictionary below, create a new model using the piecewise linear click rate functions specified by the dictionary `slopes`."
   ]
  },
  {
   "cell_type": "code",
   "execution_count": null,
   "metadata": {},
   "outputs": [],
   "source": [
    "pieces = [\"pieceA\",\"pieceB\"]\n",
    "slopes = {\n",
    "    ('LBS','london','pieceA'): [0,5000,0.002],\n",
    "    ('LBS','london','pieceB'): [5000,10000,0.0005],\n",
    "    ('LBS','master_program', 'pieceA'): [0,1000,0.004], \n",
    "    ('LBS','master_program', 'pieceB'): [1000,3000,0.002], \n",
    "    ('LBS','data_science', 'pieceA'): [0,1000,0.004],\n",
    "    ('LBS','data_science', 'pieceB'): [1000,3000,0.001],\n",
    "    ('Imperial','london','pieceA'): [0,5000,0.002],\n",
    "    ('Imperial','london','pieceB'): [5000,10000,0.0005],\n",
    "    ('Imperial','master_program', 'pieceA'): [0,1000,0.004], \n",
    "    ('Imperial','master_program', 'pieceB'): [1000,3000,0.002], \n",
    "    ('Imperial','data_science', 'pieceA'): [0,1000,0.004],\n",
    "    ('Imperial','data_science', 'pieceB'): [1000,3000,0.001]    \n",
    "}"
   ]
  },
  {
   "cell_type": "code",
   "execution_count": null,
   "metadata": {},
   "outputs": [],
   "source": [
    "# Write your code here\n",
    "\n"
   ]
  }
 ],
 "metadata": {
  "kernelspec": {
   "display_name": "Python 3",
   "language": "python",
   "name": "python3"
  },
  "language_info": {
   "codemirror_mode": {
    "name": "ipython",
    "version": 3
   },
   "file_extension": ".py",
   "mimetype": "text/x-python",
   "name": "python",
   "nbconvert_exporter": "python",
   "pygments_lexer": "ipython3",
   "version": "3.8.8"
  }
 },
 "nbformat": 4,
 "nbformat_minor": 2
}
